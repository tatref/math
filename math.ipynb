{
 "cells": [
  {
   "cell_type": "markdown",
   "metadata": {},
   "source": [
    "# Avec des classes"
   ]
  },
  {
   "cell_type": "code",
   "execution_count": 1,
   "metadata": {},
   "outputs": [],
   "source": [
    "import math\n",
    "import numpy as np\n",
    "import matplotlib.pyplot as plt"
   ]
  },
  {
   "cell_type": "markdown",
   "metadata": {},
   "source": [
    "On définit une interface \"compute\", qui permet de calculer la valeur d'un fonction au point \"x\" (ça pourrait être un vecteur aussi si on veut, ou un complexe, voir même des matrice...).\n",
    "\n",
    "Le tout est d'avoir une classe qui représente une opération mathématique, et une méthode \"compute\" associée qui permet d'évaluer la fonction en un point donné\n",
    "    "
   ]
  },
  {
   "cell_type": "code",
   "execution_count": 2,
   "metadata": {},
   "outputs": [],
   "source": [
    "class Opération_de_la_mort:\n",
    "    def __init__(self, a, b, c, d):\n",
    "        # ici on stocke les paramètres de la fonction (on ne calcule rien pour le moment)\n",
    "        self.a = a\n",
    "        self.b = b\n",
    "        #...\n",
    "        \n",
    "    def compute(self, x):\n",
    "        '''On évalue la fonction en \"x\"'''\n",
    "        return calcul_de_la_mort(x)\n"
   ]
  },
  {
   "cell_type": "code",
   "execution_count": 3,
   "metadata": {},
   "outputs": [],
   "source": [
    "class Constant:\n",
    "    '''Un classe qui calcule des constantes'''\n",
    "    def __init__(self, c):\n",
    "        # on stocke juste la valeur\n",
    "        self.c = c\n",
    "        \n",
    "    def compute(self, x):\n",
    "        # la constante est invariante par rapport à x\n",
    "        return self.c\n",
    "    \n",
    "    def __str__(self):\n",
    "        # pour avoir un affichage: print(Constant(3.14)), permet aussi d'utiliser \"str()\" sur notre classe\n",
    "        # exemple: print(\"toto \" + str(Constant(10)))\n",
    "        return str(self.c)\n",
    "    def __repr__(self):\n",
    "        # pour l'affichage dans des listes : print([Constant(1), Constant(25)])\n",
    "        # on réutilise simplement \"__str__\"\n",
    "        return str(self)"
   ]
  },
  {
   "cell_type": "code",
   "execution_count": 4,
   "metadata": {},
   "outputs": [
    {
     "name": "stdout",
     "output_type": "stream",
     "text": [
      "10\n",
      "10\n",
      "[1, 2]\n"
     ]
    }
   ],
   "source": [
    "# exemple d'utilisation\n",
    "c10 = Constant(10)  # création de la constante\n",
    "print(c10)          # affichage (uniquement texte, pas de calcul)\n",
    "\n",
    "val = c10.compute(42)  # on évalue la fonction en x=42, c'est à dire toujours 10.\n",
    "print(val)\n",
    "\n",
    "# affichage d'une liste\n",
    "l = [Constant(1), Constant(2)]\n",
    "print(l)"
   ]
  },
  {
   "cell_type": "code",
   "execution_count": 5,
   "metadata": {},
   "outputs": [
    {
     "name": "stdout",
     "output_type": "stream",
     "text": [
      "sin(10) = -0.5440211108893698\n",
      "-0.5440211108893698\n"
     ]
    }
   ],
   "source": [
    "# example de vrai calcul\n",
    "class Sin:\n",
    "    def __init__(self, inner):\n",
    "        # on calcule sin de qq chose, mais on ne sait pas quoi.\n",
    "        # Ça peut être une constante (type Constant), comme un truc plus complexe.\n",
    "        # on sait juste que ce truc est \"computable\" en un point x quelconque\n",
    "        self.inner = inner\n",
    "        \n",
    "    def compute(self, x):\n",
    "        # on ne peut pas faire :\n",
    "        # return math.sin(self.inner)\n",
    "        # car self.inner n'est pas un nombre. C'est juste un \"truc\" qui a une méthode \"compute\"\n",
    "        return math.sin(self.inner.compute(x))\n",
    "    \n",
    "    def __str__(self):\n",
    "        # là aussi c'est un peu plus chaud. \n",
    "        # On ne peut pas faire: return \"sin(\" + self.inner + \")\"\n",
    "        # car self.inner n'est pas affichable, il faut \n",
    "        return \"sin(\" + str(self.inner) + \")\"\n",
    "    def __repr__(self):\n",
    "        return str(self)\n",
    "\n",
    "\n",
    "sin_10 = Sin(Constant(10))\n",
    "val = sin_10.compute(0)   # on calcule sin(10) en x=0\n",
    "print(str(sin_10) + \" = \" + str(val))\n",
    "#     ^^^^^^^^^^^          ^^^^^^^^\n",
    "#     affichage de         affichage de la valeur de l'expression \n",
    "#     l'expression\n",
    "\n",
    "print(sin_10.compute(39.5))  # on calcule le sin d'une constante, donc c'est toujours pareil"
   ]
  },
  {
   "cell_type": "code",
   "execution_count": 6,
   "metadata": {},
   "outputs": [],
   "source": [
    "class Monomial:\n",
    "    # a.x^b\n",
    "    def __init__(self, a, b):\n",
    "        # ici, coeff et power sont des entier/réels, donc pas besoin de faire de a.compute()\n",
    "        # sinon ça ne serait plus un monome de toutes façons\n",
    "        self.a = a\n",
    "        self.b = b\n",
    "        \n",
    "        # si on dit que a et b sont des fonctions de x, ça donne :\n",
    "        # a(x) * x ^ b(x)\n",
    "        # ce qui est aussi possible en théorie\n",
    "\n",
    "    def compute(self, x):\n",
    "        # du coup le calcul est plus simple (pas de a.compute(x))\n",
    "        return self.a * x ** self.b\n",
    "    \n",
    "    def __str__(self):\n",
    "        return str(self.a) + \" * x ^ \" + str(self.b)\n",
    "    def __repr__(self):\n",
    "        return str(self)\n",
    "\n"
   ]
  },
  {
   "cell_type": "code",
   "execution_count": 7,
   "metadata": {},
   "outputs": [
    {
     "name": "stdout",
     "output_type": "stream",
     "text": [
      "1 * x ^ 1\n",
      "1 * x ^ 1=20\n",
      "13.5\n"
     ]
    }
   ],
   "source": [
    "m1 = Monomial(1, 1)  # m1 = 1.x^1 = x\n",
    "print(m1)\n",
    "print(str(m1) + \"=\" + str(m1.compute(20)))  # = 1 * 20^1\n",
    "\n",
    "m2 = Monomial(0.5, 3)  # m2 = 0.5 x^3\n",
    "print(m2.compute(3))"
   ]
  },
  {
   "cell_type": "code",
   "execution_count": 8,
   "metadata": {},
   "outputs": [],
   "source": [
    "class Sum:\n",
    "    def __init__(self, terms):\n",
    "        # ça peut représenter un polynome\n",
    "        # on passe en param une liste de monomes: Sum([Monomial(1, 2), Monomial(3, 4), ...])\n",
    "        self.terms = terms\n",
    "        \n",
    "    def compute(self, x):\n",
    "        total = 0\n",
    "        for term in self.terms:\n",
    "            val = term.compute(x)      # valeur d'un seul terme\n",
    "            total += val                   # on ajoute au total\n",
    "        return total\n",
    "\n",
    "    def __str__(self):\n",
    "        out = \"\"\n",
    "        for term in self.terms:\n",
    "            out += str(term)     # on concatène terme par terme\n",
    "            out += \" + \"             # on ajoute \"+\" entre chaque\n",
    "            \n",
    "        # oups on ajouté aussi un \" + \" en trop à la fin, il faut le virer (avec les 2 espaces de chaque côté)\n",
    "        out = out[:-3]\n",
    "        return out\n",
    "    def __repr__(self):\n",
    "        return str(self)"
   ]
  },
  {
   "cell_type": "code",
   "execution_count": 9,
   "metadata": {},
   "outputs": [
    {
     "name": "stdout",
     "output_type": "stream",
     "text": [
      "1 * x ^ 0\n",
      "1\n"
     ]
    }
   ],
   "source": [
    "f1 = Sum([Monomial(1, 0)])  # avec un seul terme : 1 * x^0 = 1 (donc identique à Constant(1) au final !)\n",
    "print(f1)\n",
    "print(f1.compute(0))"
   ]
  },
  {
   "cell_type": "code",
   "execution_count": 10,
   "metadata": {},
   "outputs": [
    {
     "name": "stdout",
     "output_type": "stream",
     "text": [
      "1 * x ^ 2 + -1 * x ^ 1\n",
      "-0.25\n"
     ]
    }
   ],
   "source": [
    "# un vrai polynome cette fois\n",
    "f2 = Sum([Monomial(1, 2), Monomial(-1, 1)])  # x^2 - x\n",
    "print(f2)\n",
    "print(f2.compute(0.5))"
   ]
  },
  {
   "cell_type": "code",
   "execution_count": 11,
   "metadata": {},
   "outputs": [],
   "source": [
    "X = np.arange(-10, 10, 0.1)\n",
    "Y = [f2.compute(x) for x in X]  # je sais pas comment faire plus joli que ça"
   ]
  },
  {
   "cell_type": "code",
   "execution_count": 12,
   "metadata": {},
   "outputs": [
    {
     "data": {
      "text/plain": [
       "[<matplotlib.lines.Line2D at 0x7fb3f261c8d0>]"
      ]
     },
     "execution_count": 12,
     "metadata": {},
     "output_type": "execute_result"
    },
    {
     "data": {
      "image/png": "[encoded data removed]",
      "text/plain": [
       "<Figure size 432x288 with 1 Axes>"
      ]
     },
     "metadata": {
      "needs_background": "light"
     },
     "output_type": "display_data"
    }
   ],
   "source": [
    "plt.plot(X, Y)"
   ]
  },
  {
   "cell_type": "code",
   "execution_count": 13,
   "metadata": {},
   "outputs": [
    {
     "name": "stdout",
     "output_type": "stream",
     "text": [
      "1 * x ^ 1 + sin(1 * x ^ 1) + -0.2 * x ^ 2\n"
     ]
    },
    {
     "data": {
      "text/plain": [
       "[<matplotlib.lines.Line2D at 0x7fb3f25967f0>]"
      ]
     },
     "execution_count": 13,
     "metadata": {},
     "output_type": "execute_result"
    },
    {
     "data": {
      "image/png": "[encoded data removed]",
      "text/plain": [
       "<Figure size 432x288 with 1 Axes>"
      ]
     },
     "metadata": {
      "needs_background": "light"
     },
     "output_type": "display_data"
    }
   ],
   "source": [
    "f = Sum([Monomial(1, 1), Sin(Monomial(1, 1)), Monomial(-0.2, 2)])\n",
    "print(f)\n",
    "\n",
    "X = np.arange(-10, 10, 0.1)\n",
    "Y = [f.compute(x) for x in X]\n",
    "\n",
    "plt.plot(X, Y)"
   ]
  },
  {
   "cell_type": "markdown",
   "metadata": {},
   "source": [
    "$$ fano = \\frac{A(q.\\Gamma+2*(x-x0))}{(\\Gamma^2+4*(x-x0)^2)} $$\n",
    "ouch ça fait peur ça"
   ]
  },
  {
   "cell_type": "code",
   "execution_count": 14,
   "metadata": {},
   "outputs": [],
   "source": [
    "class Fano:\n",
    "    def __init__(self, A, q, gamma, x0):\n",
    "        self.A = A\n",
    "        self.q = q\n",
    "        self.gamma = gamma\n",
    "        self.x0 = x0\n",
    "    \n",
    "    def compute(self, x):\n",
    "        # je ne pense pas que les paramètres varient avec x, si c'est le cas, il faut changer en  self.q.compute(x)\n",
    "        num = self.q * self.gamma + 2 * (x - self.x0)\n",
    "        denom = self.gamma**2 + 4*(x-self.x0)**2\n",
    "        return self.A*(num**2/denom)"
   ]
  },
  {
   "cell_type": "code",
   "execution_count": 15,
   "metadata": {},
   "outputs": [
    {
     "data": {
      "text/plain": [
       "[<matplotlib.lines.Line2D at 0x7fb3f255ef28>]"
      ]
     },
     "execution_count": 15,
     "metadata": {},
     "output_type": "execute_result"
    },
    {
     "data": {
      "image/png": "[encoded data removed]",
      "text/plain": [
       "<Figure size 432x288 with 1 Axes>"
      ]
     },
     "metadata": {
      "needs_background": "light"
     },
     "output_type": "display_data"
    }
   ],
   "source": [
    "fano1 = Fano(1, 2, 3, 4)\n",
    "X = np.arange(-10, 10, 0.1)\n",
    "Y = [fano1.compute(x) for x in X]\n",
    "\n",
    "plt.plot(X, Y)"
   ]
  },
  {
   "cell_type": "markdown",
   "metadata": {},
   "source": [
    "# En formel maintenant"
   ]
  },
  {
   "cell_type": "code",
   "execution_count": 16,
   "metadata": {},
   "outputs": [],
   "source": [
    "from sympy import sqrt, pi, N, symbols, lambdify"
   ]
  },
  {
   "cell_type": "code",
   "execution_count": 17,
   "metadata": {},
   "outputs": [
    {
     "name": "stdout",
     "output_type": "stream",
     "text": [
      "sqrt(pi)\n",
      "1.77245385090552\n"
     ]
    }
   ],
   "source": [
    "x = sqrt(pi)\n",
    "print(x)      # l'affichage est géré de base\n",
    "print(N(x))   # N permet de faire une approximation"
   ]
  },
  {
   "cell_type": "code",
   "execution_count": 18,
   "metadata": {},
   "outputs": [
    {
     "name": "stdout",
     "output_type": "stream",
     "text": [
      "A*(gamma*q + 2*x - 2*x0)**2/(gamma**2 + 4*(x - x0)**2)\n"
     ]
    }
   ],
   "source": [
    "# définition des variables, pour l'instant elles n'ont pas valeur\n",
    "A, q, gamma, x0, x = symbols('A q gamma x0 x')\n",
    "\n",
    "# on construit le fano (pareil, pas de valeur pour le moment)\n",
    "num = q * gamma + 2 * (x - x0)\n",
    "denom = gamma ** 2 + 4 * (x - x0) ** 2\n",
    "fano = A * (num ** 2 / denom)\n",
    "\n",
    "\n",
    "# pas besoin de créer de classe\n",
    "print(fano)\n"
   ]
  },
  {
   "cell_type": "code",
   "execution_count": 19,
   "metadata": {},
   "outputs": [
    {
     "name": "stdout",
     "output_type": "stream",
     "text": [
      "(2*x - 2)**2/(4*(x - 4)**2 + 9)\n"
     ]
    }
   ],
   "source": [
    "# on peut fixer les paramtres\n",
    "fano_1_2_3_4 = fano.subs({A:1, q: 2, gamma: 3, x0: 4})\n",
    "print(fano_1_2_3_4)"
   ]
  },
  {
   "cell_type": "code",
   "execution_count": 20,
   "metadata": {},
   "outputs": [
    {
     "name": "stdout",
     "output_type": "stream",
     "text": [
      "0.0547945205479452\n",
      "0.0547945205479452\n"
     ]
    }
   ],
   "source": [
    "# j'ai pas trop compris, ya 2 manière de calculer une valeur... evalf ne marche pas pour faire des graphes, alors que lambdify oui\n",
    "\n",
    "val = fano_1_2_3_4.evalf(subs={x: 0})\n",
    "print(val)\n",
    "\n",
    "val2 = lambdify(x, fano_1_2_3_4)(0)\n",
    "print(val2)"
   ]
  },
  {
   "cell_type": "code",
   "execution_count": 21,
   "metadata": {},
   "outputs": [
    {
     "data": {
      "text/plain": [
       "[<matplotlib.lines.Line2D at 0x7fb3e53b3208>]"
      ]
     },
     "execution_count": 21,
     "metadata": {},
     "output_type": "execute_result"
    },
    {
     "data": {
      "image/png": "[encoded data removed]",
      "text/plain": [
       "<Figure size 432x288 with 1 Axes>"
      ]
     },
     "metadata": {
      "needs_background": "light"
     },
     "output_type": "display_data"
    }
   ],
   "source": [
    "fano_1_2_3_4_lambda = lambdify(x, fano_1_2_3_4)\n",
    "\n",
    "X = np.arange(-10., 10., 0.1)\n",
    "Y = [fano_1_2_3_4_lambda(x) for x in X]    # avec evalf à la place de lambdify, ça ne marche pas\n",
    "\n",
    "plt.plot(X, Y)"
   ]
  },
  {
   "cell_type": "code",
   "execution_count": null,
   "metadata": {},
   "outputs": [],
   "source": []
  }
 ],
 "metadata": {
  "kernelspec": {
   "display_name": "Python 3",
   "language": "python",
   "name": "python3"
  },
  "language_info": {
   "codemirror_mode": {
    "name": "ipython",
    "version": 3
   },
   "file_extension": ".py",
   "mimetype": "text/x-python",
   "name": "python",
   "nbconvert_exporter": "python",
   "pygments_lexer": "ipython3",
   "version": "3.5.3"
  }
 },
 "nbformat": 4,
 "nbformat_minor": 2
}
